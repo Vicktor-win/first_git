{
 "cells": [
  {
   "cell_type": "code",
   "execution_count": null,
   "id": "72a3305a-6b9e-4de2-8e4c-60a353e00036",
   "metadata": {},
   "outputs": [
    {
     "name": "stdout",
     "output_type": "stream",
     "text": [
      "\n",
      "    Предлагаю поиграть в игру.\n",
      "    Я загадываю число, а ты его угадываешь.\n",
      "    \n",
      "Я загадал число\n"
     ]
    },
    {
     "name": "stdin",
     "output_type": "stream",
     "text": [
      "Введи номер от 0 до 10:  3\n"
     ]
    },
    {
     "name": "stdout",
     "output_type": "stream",
     "text": [
      "ХАХАХАХАХАХАХА Не правильно!!!!!! Введи номер заново АХААХАХАХАХАХ\n"
     ]
    },
    {
     "name": "stdin",
     "output_type": "stream",
     "text": [
      "Введи номер от 0 до 10:  5\n"
     ]
    },
    {
     "name": "stdout",
     "output_type": "stream",
     "text": [
      "ХАХАХАХАХАХАХА Не правильно!!!!!! Введи номер заново АХААХАХАХАХАХ\n"
     ]
    },
    {
     "name": "stdin",
     "output_type": "stream",
     "text": [
      "Введи номер от 0 до 10:  1\n"
     ]
    },
    {
     "name": "stdout",
     "output_type": "stream",
     "text": [
      "ХАХАХАХАХАХАХА Не правильно!!!!!! Введи номер заново АХААХАХАХАХАХ\n"
     ]
    },
    {
     "name": "stdin",
     "output_type": "stream",
     "text": [
      "Введи номер от 0 до 10:  5\n"
     ]
    },
    {
     "name": "stdout",
     "output_type": "stream",
     "text": [
      "ХАХАХАХАХАХАХА Не правильно!!!!!! Введи номер заново АХААХАХАХАХАХ\n"
     ]
    },
    {
     "name": "stdin",
     "output_type": "stream",
     "text": [
      "Введи номер от 0 до 10:  7\n"
     ]
    },
    {
     "name": "stdout",
     "output_type": "stream",
     "text": [
      "ХАХАХАХАХАХАХА Не правильно!!!!!! Введи номер заново АХААХАХАХАХАХ\n"
     ]
    },
    {
     "name": "stdin",
     "output_type": "stream",
     "text": [
      "Введи номер от 0 до 10:  9\n"
     ]
    },
    {
     "name": "stdout",
     "output_type": "stream",
     "text": [
      "ХАХАХАХАХАХАХА Не правильно!!!!!! Введи номер заново АХААХАХАХАХАХ\n"
     ]
    },
    {
     "name": "stdin",
     "output_type": "stream",
     "text": [
      "Введи номер от 0 до 10:  10\n"
     ]
    },
    {
     "name": "stdout",
     "output_type": "stream",
     "text": [
      "ХАХАХАХАХАХАХА Не правильно!!!!!! Введи номер заново АХААХАХАХАХАХ\n"
     ]
    },
    {
     "name": "stdin",
     "output_type": "stream",
     "text": [
      "Введи номер от 0 до 10:  2\n"
     ]
    },
    {
     "name": "stdout",
     "output_type": "stream",
     "text": [
      "ХАХАХАХАХАХАХА Не правильно!!!!!! Введи номер заново АХААХАХАХАХАХ\n"
     ]
    },
    {
     "name": "stdin",
     "output_type": "stream",
     "text": [
      "Введи номер от 0 до 10:  0\n"
     ]
    },
    {
     "name": "stdout",
     "output_type": "stream",
     "text": [
      "ХАХАХАХАХАХАХА Не правильно!!!!!! Введи номер заново АХААХАХАХАХАХ\n"
     ]
    }
   ],
   "source": [
    "print(\"\"\"\n",
    "    Предлагаю поиграть в игру.\n",
    "    Я загадываю число, а ты его угадываешь.\n",
    "    \"\"\")\n",
    "import random as rd\n",
    "robot_number = rd.randint(0,10)\n",
    "print('Я загадал число')\n",
    "\n",
    "human_number = None\n",
    "\n",
    "\n",
    "while human_number != robot_number:\n",
    "    human_number = int(input('Введи номер от 0 до 10: '))\n",
    "    if human_number != robot_number:\n",
    "        print('ХАХАХАХАХАХАХА Не правильно!!!!!! Введи номер заново АХААХАХАХАХАХ')\n",
    "    else:\n",
    "        print('Ты победил робота!')"
   ]
  },
  {
   "cell_type": "code",
   "execution_count": null,
   "id": "48b38010-f6ab-4a0e-a9a4-43a52f07033c",
   "metadata": {},
   "outputs": [],
   "source": []
  }
 ],
 "metadata": {
  "kernelspec": {
   "display_name": "Python 3 (ipykernel)",
   "language": "python",
   "name": "python3"
  },
  "language_info": {
   "codemirror_mode": {
    "name": "ipython",
    "version": 3
   },
   "file_extension": ".py",
   "mimetype": "text/x-python",
   "name": "python",
   "nbconvert_exporter": "python",
   "pygments_lexer": "ipython3",
   "version": "3.12.4"
  }
 },
 "nbformat": 4,
 "nbformat_minor": 5
}
